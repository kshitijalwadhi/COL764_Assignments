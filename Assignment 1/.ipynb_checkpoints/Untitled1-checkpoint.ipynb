{
 "cells": [
  {
   "cell_type": "code",
   "execution_count": 1,
   "metadata": {},
   "outputs": [],
   "source": [
    "from bs4 import BeautifulSoup\n",
    "import re\n",
    "import os\n",
    "from PorterStemmer import * \n",
    "from tqdm.notebook import tqdm\n",
    "import snappy\n",
    "import mmap\n",
    "import math\n",
    "import json\n",
    "ps = PorterStemmer()"
   ]
  },
  {
   "cell_type": "code",
   "execution_count": 2,
   "metadata": {},
   "outputs": [],
   "source": [
    "directory = 'debug'"
   ]
  },
  {
   "cell_type": "code",
   "execution_count": 3,
   "metadata": {},
   "outputs": [],
   "source": [
    "delim = '''[ ',(){}.:;\"’`\\n]'''\n",
    "def getTokensFromText(text):\n",
    "    #words = re.split('''[ ',.:_;\"’`\\n]''',text)\n",
    "    words = re.split(delim, text)\n",
    "    res = []\n",
    "    for w in words:\n",
    "        if(len(w)>0):\n",
    "            res.append(ps.stem(w.lower(),0,len(w)-1))\n",
    "    return res"
   ]
  },
  {
   "cell_type": "code",
   "execution_count": 4,
   "metadata": {},
   "outputs": [],
   "source": [
    "def processStopwords(filepath):\n",
    "    stopwords = {}\n",
    "    text = ''\n",
    "    file = open(filepath,\"r\")\n",
    "    lines = file.readlines()\n",
    "    for line in lines:\n",
    "        text += (line + \" \")\n",
    "    res = re.split('''[ ',.:_;\"’`\\n]''',text)\n",
    "    temp = []\n",
    "    for w in res:\n",
    "        if len(w)>0:\n",
    "            temp.append(w.lower())\n",
    "    res = temp\n",
    "    for w in res:\n",
    "        stopwords[w] = 1\n",
    "    return stopwords"
   ]
  },
  {
   "cell_type": "code",
   "execution_count": 5,
   "metadata": {},
   "outputs": [],
   "source": [
    "stopwords = processStopwords('stopwords')"
   ]
  },
  {
   "cell_type": "code",
   "execution_count": 6,
   "metadata": {},
   "outputs": [],
   "source": [
    "def checkStopwords(word,stopwords):\n",
    "    if stopwords.get(word) is not None:\n",
    "        return True\n",
    "    else:\n",
    "        return False"
   ]
  },
  {
   "cell_type": "code",
   "execution_count": 7,
   "metadata": {},
   "outputs": [],
   "source": [
    "def getXMLtags(filepath):\n",
    "    file = open(filepath,\"r\")\n",
    "    lines = file.readlines()\n",
    "    text = ''\n",
    "    for line in lines:\n",
    "        text += (line + \" \")\n",
    "    res = re.split(delim,text)\n",
    "    temp = []\n",
    "    for w in res:\n",
    "        if len(w)>0:\n",
    "            temp.append(w.lower())\n",
    "    res = temp\n",
    "    return res"
   ]
  },
  {
   "cell_type": "code",
   "execution_count": 8,
   "metadata": {},
   "outputs": [],
   "source": [
    "# maps docnum to list of tokens for all files in directory\n",
    "def process_directory(dir_path):\n",
    "    data = {}\n",
    "    for filename in tqdm(os.listdir(dir_path)):\n",
    "        full_path = os.path.join(dir_path,filename)\n",
    "        file = open(full_path, \"r\")\n",
    "        contents = file.read()\n",
    "        soup = BeautifulSoup(contents, 'html.parser')\n",
    "        docs = soup.find_all('doc')\n",
    "\n",
    "        for doc in docs:\n",
    "            docnum = doc.find('docno').get_text().strip()\n",
    "            fields = doc.find_all('text')\n",
    "            res = []\n",
    "            for field in fields:\n",
    "                text = field.get_text()\n",
    "                words = re.split(delim,text)\n",
    "                for w in words:\n",
    "                    if(len(w)>0):\n",
    "                        res.append(ps.stem(w.lower(),0,len(w)-1))\n",
    "            data[docnum] = res\n",
    "    return data"
   ]
  },
  {
   "cell_type": "code",
   "execution_count": 9,
   "metadata": {},
   "outputs": [
    {
     "data": {
      "application/vnd.jupyter.widget-view+json": {
       "model_id": "03c7c0819ff24b4e803641800b2d283d",
       "version_major": 2,
       "version_minor": 0
      },
      "text/plain": [
       "HBox(children=(FloatProgress(value=0.0, max=3.0), HTML(value='')))"
      ]
     },
     "metadata": {},
     "output_type": "display_data"
    },
    {
     "name": "stdout",
     "output_type": "stream",
     "text": [
      "\n"
     ]
    }
   ],
   "source": [
    "data = process_directory(directory)"
   ]
  },
  {
   "cell_type": "code",
   "execution_count": null,
   "metadata": {},
   "outputs": [],
   "source": []
  },
  {
   "cell_type": "code",
   "execution_count": 10,
   "metadata": {},
   "outputs": [],
   "source": [
    "# gets vocabulary from the data and returns it in the form of a set\n",
    "def getVocab(data,stopwords):\n",
    "    tokens = []\n",
    "    for doc,token_list in data.items():\n",
    "        tokens += token_list\n",
    "    tokens = set(tokens)\n",
    "    for w in stopwords:\n",
    "        tokens.discard(w)\n",
    "    return tokens"
   ]
  },
  {
   "cell_type": "code",
   "execution_count": 11,
   "metadata": {},
   "outputs": [],
   "source": [
    "# takes a list of document names and maps them to integers and returns the map\n",
    "def mapDocIDs(docIDs):\n",
    "    docID_to_int = {}\n",
    "    int_to_docID = {}\n",
    "    i = 1\n",
    "    for doc in docIDs:\n",
    "        docID_to_int[doc] = i\n",
    "        int_to_docID[i] = doc\n",
    "        i+=1\n",
    "    return docID_to_int, int_to_docID\n",
    "\n",
    "def makeDocIdMap(full_path):\n",
    "    file = open(full_path, \"r\")\n",
    "    contents = file.read()\n",
    "    soup = BeautifulSoup(contents, 'html.parser')\n",
    "    docs = soup.find_all('doc')\n",
    "    docIDs = []\n",
    "    for doc in docs:\n",
    "        docnum = doc.find('docno').get_text().strip()\n",
    "        docIDs.append(docnum)\n",
    "    return mapDocIDs(docIDs)"
   ]
  },
  {
   "cell_type": "code",
   "execution_count": 12,
   "metadata": {},
   "outputs": [],
   "source": [
    "docID_to_int, int_to_docID = mapDocIDs(data)\n",
    "vocab = getVocab(data,stopwords)"
   ]
  },
  {
   "cell_type": "code",
   "execution_count": 13,
   "metadata": {},
   "outputs": [],
   "source": [
    "# generates inverted index from the given data\n",
    "def getInvIdx(data):\n",
    "    invidx = {}\n",
    "    for doc, token_list in data.items():\n",
    "        doc = docID_to_int[doc]\n",
    "        for token in token_list:\n",
    "            if token in vocab:\n",
    "                if token in invidx.keys():\n",
    "                    if(invidx[token][-1]!=doc):\n",
    "                        invidx[token].append(doc)\n",
    "                else:\n",
    "                    invidx[token] = [doc]\n",
    "    return invidx"
   ]
  },
  {
   "cell_type": "code",
   "execution_count": 14,
   "metadata": {},
   "outputs": [],
   "source": [
    "def gapEncodeList(arr):\n",
    "    carry = arr[0]\n",
    "    temp = [carry]\n",
    "    for i in range(1,len(arr)):\n",
    "        temp.append(arr[i]-arr[i-1])\n",
    "    return temp\n",
    "#     for i in range(1,len(arr)):\n",
    "#         temp = arr[i]\n",
    "#         arr[i] -= carry\n",
    "#         carry = temp\n",
    "#     return arr"
   ]
  },
  {
   "cell_type": "code",
   "execution_count": 15,
   "metadata": {},
   "outputs": [],
   "source": [
    "def undoGapEncode(arr):\n",
    "    temp = [arr[0]]\n",
    "    for i in range(1,len(arr)):\n",
    "        prev = temp[-1]\n",
    "        temp.append(arr[i]+prev)\n",
    "    return temp\n",
    "#     for i,item in enumerate(arr):\n",
    "#         if i==0:\n",
    "#             continue\n",
    "#         arr[i] +=arr[i-1]\n",
    "#     return arr"
   ]
  },
  {
   "cell_type": "code",
   "execution_count": 16,
   "metadata": {},
   "outputs": [],
   "source": [
    "def dec_to_binary(n):\n",
    "    return bin(n).replace(\"0b\", \"\")"
   ]
  },
  {
   "cell_type": "code",
   "execution_count": 17,
   "metadata": {},
   "outputs": [],
   "source": [
    "def bin_to_dec(n):\n",
    "    return int(n,2)"
   ]
  },
  {
   "cell_type": "code",
   "execution_count": 18,
   "metadata": {},
   "outputs": [],
   "source": [
    "invidx = getInvIdx(data)"
   ]
  },
  {
   "cell_type": "code",
   "execution_count": 19,
   "metadata": {},
   "outputs": [
    {
     "data": {
      "text/plain": [
       "[[1,\n",
       "  7,\n",
       "  8,\n",
       "  9,\n",
       "  14,\n",
       "  30,\n",
       "  31,\n",
       "  49,\n",
       "  55,\n",
       "  60,\n",
       "  67,\n",
       "  69,\n",
       "  81,\n",
       "  98,\n",
       "  103,\n",
       "  131,\n",
       "  142,\n",
       "  159,\n",
       "  169,\n",
       "  175,\n",
       "  195,\n",
       "  204,\n",
       "  214,\n",
       "  216,\n",
       "  229,\n",
       "  234,\n",
       "  235,\n",
       "  239,\n",
       "  244,\n",
       "  252,\n",
       "  270,\n",
       "  272,\n",
       "  284,\n",
       "  304,\n",
       "  333,\n",
       "  334,\n",
       "  339,\n",
       "  340,\n",
       "  347,\n",
       "  349,\n",
       "  350,\n",
       "  369,\n",
       "  383,\n",
       "  402,\n",
       "  406,\n",
       "  411,\n",
       "  414,\n",
       "  417,\n",
       "  426,\n",
       "  434,\n",
       "  435,\n",
       "  444,\n",
       "  445,\n",
       "  452,\n",
       "  456,\n",
       "  459,\n",
       "  466,\n",
       "  469,\n",
       "  475],\n",
       " [9, 19, 60, 108, 235, 284, 304, 434],\n",
       " [56, 79, 434]]"
      ]
     },
     "execution_count": 19,
     "metadata": {},
     "output_type": "execute_result"
    }
   ],
   "source": [
    "res = []\n",
    "for token in getTokensFromText(\"South African Sanctions\"):\n",
    "    res.append((invidx[token]))\n",
    "res"
   ]
  },
  {
   "cell_type": "code",
   "execution_count": 20,
   "metadata": {},
   "outputs": [],
   "source": [
    "def doGapEncoding(invidx):\n",
    "    for token, posting_list in invidx.items():\n",
    "        invidx[token] = gapEncodeList(posting_list)\n",
    "    return invidx"
   ]
  },
  {
   "cell_type": "code",
   "execution_count": 21,
   "metadata": {},
   "outputs": [],
   "source": [
    "invidx = doGapEncoding(invidx)"
   ]
  },
  {
   "cell_type": "code",
   "execution_count": 22,
   "metadata": {},
   "outputs": [],
   "source": [
    "# find list of common docs from multiple lists\n",
    "def getIntersection(postings):\n",
    "    ans = postings[0]\n",
    "    for posting in postings:\n",
    "        tempans = []\n",
    "        n1 = len(ans)\n",
    "        n2 = len(posting)\n",
    "        i,j = 0,0\n",
    "        while i!=n1 and j!=n2:\n",
    "            if ans[i] == posting[j]:\n",
    "                tempans.append(ans[i])\n",
    "                i+=1\n",
    "                j+=1\n",
    "            elif ans[i]<posting[j]:\n",
    "                i+=1\n",
    "            else:\n",
    "                j+=1\n",
    "        ans = tempans\n",
    "    return ans"
   ]
  },
  {
   "cell_type": "code",
   "execution_count": 23,
   "metadata": {},
   "outputs": [],
   "source": [
    "def padding(x):\n",
    "    n = len(x)\n",
    "    return '0'*(8-n) + x"
   ]
  },
  {
   "cell_type": "code",
   "execution_count": 24,
   "metadata": {},
   "outputs": [],
   "source": [
    "def chunkstring(string, length):\n",
    "    return [string[0+i:length+i] for i in range(0, len(string), length)]"
   ]
  },
  {
   "cell_type": "code",
   "execution_count": 25,
   "metadata": {},
   "outputs": [],
   "source": [
    "def c2_encoding(x):\n",
    "    if(x==1):\n",
    "        return \"0\"\n",
    "    def l(x):\n",
    "        return math.floor(math.log2(x))+1\n",
    "    def U(n):\n",
    "        if(n<=0):\n",
    "            return '0'\n",
    "        return '1' * (n-1) + '0'\n",
    "    def lsb(a,b):\n",
    "        binary = dec_to_binary(a)\n",
    "        if len(binary) < b:\n",
    "            binary = '0'*(b - len(binary)) + binary\n",
    "        return binary[-b:]\n",
    "    lx = l(x)\n",
    "    llx = l(lx)\n",
    "    t1 = U(llx)\n",
    "    t2 = lsb(lx,llx-1)\n",
    "    t3 = lsb(x,lx-1)\n",
    "    return t1+t2+t3"
   ]
  },
  {
   "cell_type": "code",
   "execution_count": 26,
   "metadata": {},
   "outputs": [],
   "source": [
    "def c2_encode_list(arr):\n",
    "    ans = ''\n",
    "    for e in arr:\n",
    "        ans+=c2_encoding(e)\n",
    "    return ans"
   ]
  },
  {
   "cell_type": "code",
   "execution_count": 27,
   "metadata": {},
   "outputs": [],
   "source": [
    "def c2_decode(x):\n",
    "    i = 0\n",
    "    n = len(x)\n",
    "    res = []\n",
    "    while(i<n):\n",
    "        t1 = ''\n",
    "        while(x[i]!='0'):\n",
    "            t1+=x[i]\n",
    "            i+=1\n",
    "        llx = len(t1) + 1\n",
    "        i+=1\n",
    "        lx_bin = '1'+ x[i:i+llx-1]\n",
    "        i += (llx-1)\n",
    "        lx = bin_to_dec(lx_bin)\n",
    "        num_bin = '1' + x[i:i+lx-1]\n",
    "        i += (lx-1)\n",
    "        num = bin_to_dec(num_bin)\n",
    "        res.append(num)\n",
    "    return res"
   ]
  },
  {
   "cell_type": "code",
   "execution_count": 28,
   "metadata": {},
   "outputs": [],
   "source": [
    "def dumpFiles_c2(invidx):\n",
    "    dictionary = {}\n",
    "    file = open(\"debugc2.idx\",\"wb\")\n",
    "    offset = 0\n",
    "    for term, posting_list in invidx.items():\n",
    "        allbytes = c2_encode_list(posting_list)\n",
    "        sz = len(allbytes)\n",
    "        skipbits = 0\n",
    "        if(sz%8!=0):\n",
    "            allbytes = '0'*(8-sz%8) + allbytes\n",
    "            skipbits = (8-sz%8)\n",
    "        chunks = chunkstring(allbytes,8)\n",
    "        temp = []\n",
    "        for chunk in chunks:\n",
    "            temp.append(bin_to_dec(chunk))\n",
    "        file.write(bytearray(temp))\n",
    "        length = len(chunks)\n",
    "        dictionary[term] = [offset,length,skipbits]\n",
    "        offset += length\n",
    "    file.close()\n",
    "    return dictionary"
   ]
  },
  {
   "cell_type": "code",
   "execution_count": 29,
   "metadata": {},
   "outputs": [],
   "source": [
    "dictionary_c2 = dumpFiles_c2(invidx)"
   ]
  },
  {
   "cell_type": "code",
   "execution_count": 30,
   "metadata": {},
   "outputs": [
    {
     "data": {
      "text/plain": [
       "[28777, 10, 0]"
      ]
     },
     "execution_count": 30,
     "metadata": {},
     "output_type": "execute_result"
    }
   ],
   "source": [
    "dictionary_c2[\"african\"]"
   ]
  },
  {
   "cell_type": "code",
   "execution_count": 31,
   "metadata": {},
   "outputs": [
    {
     "data": {
      "text/plain": [
       "[[1,\n",
       "  7,\n",
       "  8,\n",
       "  9,\n",
       "  14,\n",
       "  30,\n",
       "  31,\n",
       "  49,\n",
       "  55,\n",
       "  60,\n",
       "  67,\n",
       "  69,\n",
       "  81,\n",
       "  98,\n",
       "  103,\n",
       "  131,\n",
       "  142,\n",
       "  159,\n",
       "  169,\n",
       "  175,\n",
       "  195,\n",
       "  204,\n",
       "  214,\n",
       "  216,\n",
       "  229,\n",
       "  234,\n",
       "  235,\n",
       "  239,\n",
       "  244,\n",
       "  252,\n",
       "  270,\n",
       "  272,\n",
       "  284,\n",
       "  304,\n",
       "  333,\n",
       "  334,\n",
       "  339,\n",
       "  340,\n",
       "  347,\n",
       "  349,\n",
       "  350,\n",
       "  369,\n",
       "  383,\n",
       "  402,\n",
       "  406,\n",
       "  411,\n",
       "  414,\n",
       "  417,\n",
       "  426,\n",
       "  434,\n",
       "  435,\n",
       "  444,\n",
       "  445,\n",
       "  452,\n",
       "  456,\n",
       "  459,\n",
       "  466,\n",
       "  469,\n",
       "  475],\n",
       " [9, 19, 60, 108, 235, 284, 304, 434],\n",
       " [56, 79, 434]]"
      ]
     },
     "execution_count": 31,
     "metadata": {},
     "output_type": "execute_result"
    }
   ],
   "source": [
    "def getPostings_c2(tokens, dictionary, filename):\n",
    "    f = open(filename, \"rb\")\n",
    "    res = []\n",
    "    for token in tokens:\n",
    "        start = dictionary[token][0]\n",
    "        sz = dictionary[token][1]\n",
    "        skipbits = dictionary[token][2]\n",
    "        f.seek(start)\n",
    "        allbytes = ''\n",
    "        for i in range(0,sz):\n",
    "            temp = f.read(1)\n",
    "            val = int.from_bytes(temp,\"big\")\n",
    "            allbytes+=padding(dec_to_binary(val))\n",
    "        i = (skipbits)\n",
    "        allbytes = allbytes[i:]\n",
    "        doclist = c2_decode(allbytes)\n",
    "        res.append(undoGapEncode(doclist))\n",
    "    return res\n",
    "getPostings_c2(getTokensFromText(\"south african sanction\"),dictionary_c2,'debugc2.idx')"
   ]
  },
  {
   "cell_type": "code",
   "execution_count": 32,
   "metadata": {},
   "outputs": [
    {
     "name": "stdout",
     "output_type": "stream",
     "text": [
      "AP880214-0053\n"
     ]
    }
   ],
   "source": [
    "postings = getPostings_c2(getTokensFromText(\"South African Sanctions\"),dictionary_c2,'debugc2.idx')\n",
    "docids = getIntersection(postings)\n",
    "for d in docids:\n",
    "    print(int_to_docID[d])"
   ]
  },
  {
   "cell_type": "code",
   "execution_count": 33,
   "metadata": {},
   "outputs": [],
   "source": [
    "def reconstruct(dictionary,filename):\n",
    "    f = open(filename, \"rb\")\n",
    "    reconidx = {}\n",
    "    for token in dictionary.keys():\n",
    "        start = dictionary[token][0]\n",
    "        sz = dictionary[token][1]\n",
    "        skipbits = dictionary[token][2]\n",
    "        f.seek(start)\n",
    "        allbytes = ''\n",
    "        for i in range(0,sz):\n",
    "            temp = f.read(1)\n",
    "            val = int.from_bytes(temp,\"big\")\n",
    "            allbytes+=padding(dec_to_binary(val))\n",
    "        i = (skipbits)\n",
    "        allbytes = allbytes[i:]\n",
    "        doclist = c2_decode(allbytes)\n",
    "        reconidx[token] = doclist\n",
    "    return reconidx"
   ]
  },
  {
   "cell_type": "code",
   "execution_count": 34,
   "metadata": {},
   "outputs": [],
   "source": [
    "reconidx = reconstruct(dictionary_c2,\"debugc2.idx\")"
   ]
  },
  {
   "cell_type": "code",
   "execution_count": 35,
   "metadata": {},
   "outputs": [
    {
     "data": {
      "text/plain": [
       "True"
      ]
     },
     "execution_count": 35,
     "metadata": {},
     "output_type": "execute_result"
    }
   ],
   "source": [
    "invidx == reconidx"
   ]
  },
  {
   "cell_type": "code",
   "execution_count": 36,
   "metadata": {},
   "outputs": [
    {
     "data": {
      "text/plain": [
       "[[1,\n",
       "  7,\n",
       "  8,\n",
       "  9,\n",
       "  14,\n",
       "  30,\n",
       "  31,\n",
       "  49,\n",
       "  55,\n",
       "  60,\n",
       "  67,\n",
       "  69,\n",
       "  81,\n",
       "  98,\n",
       "  103,\n",
       "  131,\n",
       "  142,\n",
       "  159,\n",
       "  169,\n",
       "  175,\n",
       "  195,\n",
       "  204,\n",
       "  214,\n",
       "  216,\n",
       "  229,\n",
       "  234,\n",
       "  235,\n",
       "  239,\n",
       "  244,\n",
       "  252,\n",
       "  270,\n",
       "  272,\n",
       "  284,\n",
       "  304,\n",
       "  333,\n",
       "  334,\n",
       "  339,\n",
       "  340,\n",
       "  347,\n",
       "  349,\n",
       "  350,\n",
       "  369,\n",
       "  383,\n",
       "  402,\n",
       "  406,\n",
       "  411,\n",
       "  414,\n",
       "  417,\n",
       "  426,\n",
       "  434,\n",
       "  435,\n",
       "  444,\n",
       "  445,\n",
       "  452,\n",
       "  456,\n",
       "  459,\n",
       "  466,\n",
       "  469,\n",
       "  475],\n",
       " [9, 19, 60, 108, 235, 284, 304, 434],\n",
       " [56, 79, 434]]"
      ]
     },
     "execution_count": 36,
     "metadata": {},
     "output_type": "execute_result"
    }
   ],
   "source": [
    "res = []\n",
    "for token in getTokensFromText(\"South African Sanctions\"):\n",
    "    res.append(undoGapEncode(invidx[token]))\n",
    "res"
   ]
  },
  {
   "cell_type": "code",
   "execution_count": 37,
   "metadata": {},
   "outputs": [],
   "source": [
    "import random\n",
    "import numpy as np\n",
    "for i in range(1000):\n",
    "    for n in range(25):\n",
    "        for k in range(10):\n",
    "            randomlist = random.choices(range(1, 25),k=2)\n",
    "            var = (c2_decode(c2_encode_list(randomlist)) == randomlist)\n",
    "            if(var==False):\n",
    "                print(randomlist)"
   ]
  }
 ],
 "metadata": {
  "kernelspec": {
   "display_name": "Python 3",
   "language": "python",
   "name": "python3"
  },
  "language_info": {
   "codemirror_mode": {
    "name": "ipython",
    "version": 3
   },
   "file_extension": ".py",
   "mimetype": "text/x-python",
   "name": "python",
   "nbconvert_exporter": "python",
   "pygments_lexer": "ipython3",
   "version": "3.7.6"
  }
 },
 "nbformat": 4,
 "nbformat_minor": 4
}
