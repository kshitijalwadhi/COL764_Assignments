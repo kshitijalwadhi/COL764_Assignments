{
 "cells": [
  {
   "cell_type": "code",
   "execution_count": 1,
   "metadata": {},
   "outputs": [],
   "source": [
    "from bs4 import BeautifulSoup\n",
    "import re\n",
    "import os\n",
    "from PorterStemmer import * \n",
    "from tqdm.notebook import tqdm\n",
    "import snappy\n",
    "import mmap\n",
    "import math\n",
    "import json\n",
    "ps = PorterStemmer()"
   ]
  },
  {
   "cell_type": "code",
   "execution_count": 2,
   "metadata": {},
   "outputs": [],
   "source": [
    "directory = 'subset'"
   ]
  },
  {
   "cell_type": "code",
   "execution_count": 3,
   "metadata": {},
   "outputs": [],
   "source": [
    "delim = '''[ ',(){}.:;\"’`\\n]'''\n",
    "def getTokensFromText(text):\n",
    "    #words = re.split('''[ ',.:_;\"’`\\n]''',text)\n",
    "    words = re.split(delim, text)\n",
    "    res = []\n",
    "    for w in words:\n",
    "        if(len(w)>0):\n",
    "            res.append(ps.stem(w.lower(),0,len(w)-1))\n",
    "    return res"
   ]
  },
  {
   "cell_type": "code",
   "execution_count": 4,
   "metadata": {},
   "outputs": [],
   "source": [
    "def processStopwords(filepath):\n",
    "    stopwords = {}\n",
    "    text = ''\n",
    "    file = open(filepath,\"r\")\n",
    "    lines = file.readlines()\n",
    "    for line in lines:\n",
    "        text += (line + \" \")\n",
    "    res = re.split(delim,text)\n",
    "    temp = []\n",
    "    for w in res:\n",
    "        if len(w)>0:\n",
    "            temp.append(w.lower())\n",
    "    res = temp\n",
    "    for w in res:\n",
    "        stopwords[w] = 1\n",
    "    return stopwords"
   ]
  },
  {
   "cell_type": "code",
   "execution_count": 5,
   "metadata": {},
   "outputs": [],
   "source": [
    "stopwords = processStopwords('stopwords')"
   ]
  },
  {
   "cell_type": "code",
   "execution_count": 6,
   "metadata": {},
   "outputs": [],
   "source": [
    "def checkStopwords(word,stopwords):\n",
    "    if stopwords.get(word) is not None:\n",
    "        return True\n",
    "    else:\n",
    "        return False"
   ]
  },
  {
   "cell_type": "code",
   "execution_count": 7,
   "metadata": {},
   "outputs": [],
   "source": [
    "def getXMLtags(filepath):\n",
    "    file = open(filepath,\"r\")\n",
    "    lines = file.readlines()\n",
    "    text = ''\n",
    "    for line in lines:\n",
    "        text += (line + \" \")\n",
    "    res = re.split(delim,text)\n",
    "    temp = []\n",
    "    for w in res:\n",
    "        if len(w)>0:\n",
    "            temp.append(w.lower())\n",
    "    res = temp\n",
    "    return res"
   ]
  },
  {
   "cell_type": "code",
   "execution_count": 57,
   "metadata": {},
   "outputs": [],
   "source": [
    "# maps docnum to list of tokens for all files in directory\n",
    "def process_directory(path,filearr):\n",
    "    data = {}\n",
    "    for filename in tqdm(filearr):\n",
    "        full_path = os.path.join(path,filename)\n",
    "        file = open(full_path, \"r\")\n",
    "        contents = file.read()\n",
    "        soup = BeautifulSoup(contents, 'html.parser')\n",
    "        docs = soup.find_all('doc')\n",
    "\n",
    "        for doc in docs:\n",
    "            docnum = doc.find(xmlTags[0]).get_text().strip()\n",
    "            res = []\n",
    "            for tag in xmlTags:\n",
    "                if tag == xmlTags[0]:\n",
    "                    continue\n",
    "                fields = doc.find_all(tag)\n",
    "                for field in fields:\n",
    "                    text = field.get_text()\n",
    "                    words = re.split(delim, text)\n",
    "                    for w in words:\n",
    "                        if(len(w) > 0):\n",
    "                            res.append(ps.stem(w.lower(), 0, len(w)-1))\n",
    "            data[docnum] = res\n",
    "    return data"
   ]
  },
  {
   "cell_type": "code",
   "execution_count": 59,
   "metadata": {},
   "outputs": [],
   "source": [
    "xmlTags = getXMLtags('xmltags')"
   ]
  },
  {
   "cell_type": "code",
   "execution_count": 9,
   "metadata": {},
   "outputs": [],
   "source": [
    "# gets vocabulary from the data and returns it in the form of a set\n",
    "def getVocab(vocab, data,stopwords):\n",
    "    tokens = []\n",
    "    for doc,token_list in data.items():\n",
    "        tokens += token_list\n",
    "    tokens = set(tokens)\n",
    "    for w in stopwords:\n",
    "        tokens.discard(w)\n",
    "    vocab.update(tokens)\n",
    "    return vocab"
   ]
  },
  {
   "cell_type": "code",
   "execution_count": 10,
   "metadata": {},
   "outputs": [],
   "source": [
    "def dec_to_binary(n):\n",
    "    return bin(n).replace(\"0b\", \"\")\n",
    "def bin_to_dec(n):\n",
    "    return int(n,2)"
   ]
  },
  {
   "cell_type": "code",
   "execution_count": 11,
   "metadata": {},
   "outputs": [],
   "source": [
    "def gapEncodeList(arr):\n",
    "    carry = arr[0]\n",
    "    temp = [carry]\n",
    "    for i in range(1,len(arr)):\n",
    "        temp.append(arr[i]-arr[i-1])\n",
    "    return temp\n",
    "def undoGapEncode(arr):\n",
    "    temp = [arr[0]]\n",
    "    for i in range(1,len(arr)):\n",
    "        prev = temp[-1]\n",
    "        temp.append(arr[i]+prev)\n",
    "    return temp"
   ]
  },
  {
   "cell_type": "code",
   "execution_count": 12,
   "metadata": {},
   "outputs": [],
   "source": [
    "# generates inverted index from the given data\n",
    "def getInvIdx(data):\n",
    "    invidx = {}\n",
    "    for doc, token_list in data.items():\n",
    "        doc = docID_to_int[doc]\n",
    "        for token in token_list:\n",
    "            if token in vocab:\n",
    "                if token in invidx.keys():\n",
    "                    if(invidx[token][-1]!=doc):\n",
    "                        invidx[token].append(doc)\n",
    "                else:\n",
    "                    invidx[token] = [doc]\n",
    "    return invidx"
   ]
  },
  {
   "cell_type": "code",
   "execution_count": 13,
   "metadata": {},
   "outputs": [],
   "source": [
    "def getIntersection(postings):\n",
    "    ans = postings[0]\n",
    "    for posting in postings:\n",
    "        tempans = []\n",
    "        n1 = len(ans)\n",
    "        n2 = len(posting)\n",
    "        i, j = 0, 0\n",
    "        while i != n1 and j != n2:\n",
    "            if ans[i] == posting[j]:\n",
    "                tempans.append(ans[i])\n",
    "                i += 1\n",
    "                j += 1\n",
    "            elif ans[i] < posting[j]:\n",
    "                i += 1\n",
    "            else:\n",
    "                j += 1\n",
    "        ans = tempans\n",
    "    return ans"
   ]
  },
  {
   "cell_type": "code",
   "execution_count": 14,
   "metadata": {},
   "outputs": [],
   "source": [
    "def doGapEncoding(invidx):\n",
    "    for token, posting_list in invidx.items():\n",
    "        invidx[token] = gapEncodeList(posting_list)\n",
    "    return invidx"
   ]
  },
  {
   "cell_type": "code",
   "execution_count": 15,
   "metadata": {},
   "outputs": [],
   "source": [
    "def chunkstring(string, length):\n",
    "    return [string[0+i:length+i] for i in range(0, len(string), length)]"
   ]
  },
  {
   "cell_type": "code",
   "execution_count": 16,
   "metadata": {},
   "outputs": [],
   "source": [
    "def chunks(l, n):\n",
    "    return [l[i:i + n] for i in range(0, len(l), n)] "
   ]
  },
  {
   "cell_type": "code",
   "execution_count": 17,
   "metadata": {},
   "outputs": [],
   "source": [
    "def padding(x):\n",
    "    n = len(x)\n",
    "    return '0'*(8-n) + x"
   ]
  },
  {
   "cell_type": "code",
   "execution_count": 18,
   "metadata": {},
   "outputs": [],
   "source": [
    "# does c2 encoding on a number\n",
    "def c2_encoding(x):\n",
    "    if(x == 1):\n",
    "        return \"0\"\n",
    "\n",
    "    def l(x):\n",
    "        return len(dec_to_binary(x))\n",
    "\n",
    "    def U(n):\n",
    "        if(n <= 0):\n",
    "            return '0'\n",
    "        return '1' * (n-1) + '0'\n",
    "\n",
    "    def lsb(a, b):\n",
    "        binary = dec_to_binary(a)\n",
    "        return binary[-b:]\n",
    "    lx = l(x)\n",
    "    llx = l(lx)\n",
    "    t1 = U(llx)\n",
    "    t2 = lsb(lx, llx-1)\n",
    "    t3 = lsb(x, lx-1)\n",
    "    return t1+t2+t3\n",
    "\n",
    "\n",
    "# does c2 encoding on a list of numbers\n",
    "def c2_encode_list(arr):\n",
    "    ans = ''\n",
    "    for e in arr:\n",
    "        ans += c2_encoding(e)\n",
    "    return ans\n",
    "\n",
    "\n",
    "# does c2 decoding on a list of numbers\n",
    "def c2_decode(x):\n",
    "    i = 0\n",
    "    n = len(x)\n",
    "    res = []\n",
    "    while(i < n):\n",
    "        t1 = ''\n",
    "        while(x[i] != '0'):\n",
    "            t1 += x[i]\n",
    "            i += 1\n",
    "        llx = len(t1) + 1\n",
    "        i += 1\n",
    "        lx_bin = '1' + x[i:i+llx-1]\n",
    "        i += (llx-1)\n",
    "        lx = bin_to_dec(lx_bin)\n",
    "        num_bin = '1' + x[i:i+lx-1]\n",
    "        i += (lx-1)\n",
    "        num = bin_to_dec(num_bin)\n",
    "        res.append(num)\n",
    "    return res"
   ]
  },
  {
   "cell_type": "code",
   "execution_count": 19,
   "metadata": {},
   "outputs": [],
   "source": [
    "# makes posting list file for C2 compression\n",
    "def dumpINV(invidx,i):\n",
    "    dictionary = {}\n",
    "    fname = f\"index{i}.idx\"\n",
    "    file = open(os.path.join(\"tempfiles\",fname), \"wb\")\n",
    "    offset = 0\n",
    "    for term, posting_list in invidx.items():\n",
    "        allbytes = c2_encode_list(posting_list)\n",
    "        sz = len(allbytes)\n",
    "        skipbits = 0\n",
    "        if(sz % 8 != 0):\n",
    "            allbytes = '0'*(8-sz % 8) + allbytes\n",
    "            skipbits = (8-sz % 8)\n",
    "        chunks = chunkstring(allbytes, 8)\n",
    "        temp = []\n",
    "        for chunk in chunks:\n",
    "            temp.append(bin_to_dec(chunk))\n",
    "        file.write(bytearray(temp))\n",
    "        length = len(chunks)\n",
    "        dictionary[term] = [offset, length, skipbits]\n",
    "        offset += length\n",
    "    file.close()\n",
    "    return dictionary"
   ]
  },
  {
   "cell_type": "code",
   "execution_count": 20,
   "metadata": {},
   "outputs": [],
   "source": [
    "# get posting list using C2\n",
    "def getPosting(reader,token,tempdict):\n",
    "    start = tempdict[token][0]\n",
    "    sz = tempdict[token][1]\n",
    "    skipbits = tempdict[token][2]\n",
    "    reader.seek(start)\n",
    "    allbytes = ''\n",
    "    for i in range(0, sz):\n",
    "        temp = reader.read(1)\n",
    "        val = int.from_bytes(temp, \"big\")\n",
    "        allbytes += padding(dec_to_binary(val))\n",
    "    i = skipbits\n",
    "    allbytes = allbytes[i:]\n",
    "    doclist = c2_decode(allbytes)\n",
    "    return undoGapEncode(doclist)"
   ]
  },
  {
   "cell_type": "code",
   "execution_count": 21,
   "metadata": {},
   "outputs": [],
   "source": [
    "#data = process_directory(directory,os.listdir(directory))\n",
    "allfiles = os.listdir(directory)"
   ]
  },
  {
   "cell_type": "code",
   "execution_count": 22,
   "metadata": {},
   "outputs": [],
   "source": [
    "def mapDocIDs(docIDs,numdocs):\n",
    "    for doc in docIDs:\n",
    "        docID_to_int[doc] = numdocs\n",
    "        int_to_docID[numdocs] = doc\n",
    "        numdocs+=1\n",
    "    return numdocs"
   ]
  },
  {
   "cell_type": "code",
   "execution_count": 60,
   "metadata": {},
   "outputs": [
    {
     "data": {
      "application/vnd.jupyter.widget-view+json": {
       "model_id": "600732764db1499f8f73e31e3903af40",
       "version_major": 2,
       "version_minor": 0
      },
      "text/plain": [
       "HBox(children=(FloatProgress(value=0.0, max=1.0), HTML(value='')))"
      ]
     },
     "metadata": {},
     "output_type": "display_data"
    },
    {
     "name": "stdout",
     "output_type": "stream",
     "text": [
      "\n"
     ]
    }
   ],
   "source": [
    "FILES_PER_SPLIT = 2\n",
    "int_to_docID = {}\n",
    "numfiles = len(chunks(allfiles,FILES_PER_SPLIT))\n",
    "numdocs = 1\n",
    "docID_to_int = {}\n",
    "int_to_docID = {}\n",
    "vocab = set()\n",
    "for i,chunked in enumerate(chunks(allfiles,FILES_PER_SPLIT)):\n",
    "    data = process_directory(directory,chunked)\n",
    "    numdocs = mapDocIDs(data,numdocs)\n",
    "    vocab = getVocab(vocab,data,stopwords)\n",
    "    invidx = getInvIdx(data)\n",
    "    invidx = doGapEncoding(invidx)\n",
    "    tempdict = dumpINV(invidx,i)\n",
    "    with open(os.path.join(\"tempfiles\",f\"dict{i}.json\"), \"w\") as outfile:\n",
    "        json.dump(tempdict,outfile)"
   ]
  },
  {
   "cell_type": "code",
   "execution_count": 24,
   "metadata": {},
   "outputs": [],
   "source": [
    "def loadDictFiles():\n",
    "    res = []\n",
    "    for i in range(numfiles):\n",
    "        with open(os.path.join(\"tempfiles\",f\"dict{i}.json\"), \"r\") as jsonfile:\n",
    "            tempinvidx = json.load(jsonfile)\n",
    "            res.append(tempinvidx)\n",
    "    return res"
   ]
  },
  {
   "cell_type": "code",
   "execution_count": 25,
   "metadata": {},
   "outputs": [],
   "source": [
    "def loadBinFiles():\n",
    "    res = []\n",
    "    for i in range(numfiles):\n",
    "        f = open(os.path.join(\"tempfiles\",f\"index{i}.idx\"),\"rb\")\n",
    "        res.append(f)\n",
    "    return res"
   ]
  },
  {
   "cell_type": "code",
   "execution_count": 26,
   "metadata": {},
   "outputs": [],
   "source": [
    "def closeBinFiles(allidx):\n",
    "    for i in range(numfiles):\n",
    "        allidx[i].close()"
   ]
  },
  {
   "cell_type": "code",
   "execution_count": 37,
   "metadata": {},
   "outputs": [],
   "source": [
    "invidx = {}\n",
    "alldicts = loadDictFiles()\n",
    "allidx = loadBinFiles()\n",
    "for w in vocab:\n",
    "    postings = []\n",
    "    for i,tempdict in enumerate(alldicts):\n",
    "        if w in tempdict:\n",
    "            #f = open(f\"index{i}.idx\",\"rb\")\n",
    "            reader = allidx[i]\n",
    "            postings.extend(getPosting(reader,w,alldicts[i]))\n",
    "            #f.close()\n",
    "    invidx[w] = postings"
   ]
  },
  {
   "cell_type": "code",
   "execution_count": 62,
   "metadata": {},
   "outputs": [
    {
     "name": "stdout",
     "output_type": "stream",
     "text": [
      "AP880504-0011\n",
      "AP880504-0014\n",
      "AP880504-0111\n",
      "AP880504-0037\n",
      "AP880504-0019\n",
      "AP880504-0070\n",
      "AP880504-0018\n",
      "AP880504-0016\n"
     ]
    }
   ],
   "source": [
    "arr = invidx[\"african\"]\n",
    "for e in arr:\n",
    "    print(int_to_docID[e])"
   ]
  },
  {
   "cell_type": "code",
   "execution_count": 63,
   "metadata": {},
   "outputs": [],
   "source": [
    "def dumpC2():\n",
    "    alldicts = loadDictFiles()\n",
    "    allidx = loadBinFiles()\n",
    "    dictionary = {}\n",
    "    fname =  'tempc2.idx'\n",
    "    file = open(fname, \"wb\")\n",
    "    offset = 0\n",
    "    for w in vocab:\n",
    "        postings = []\n",
    "        for i,tempdict in enumerate(alldicts):\n",
    "            if w in tempdict:\n",
    "                reader = allidx[i]\n",
    "                postings.extend(getPosting(reader,w,alldicts[i]))\n",
    "        postings = gapEncodeList(postings)\n",
    "        allbytes = c2_encode_list(postings)\n",
    "        sz = len(allbytes)\n",
    "        skipbits = 0\n",
    "        if(sz % 8 != 0):\n",
    "            allbytes = '0'*(8-sz % 8) + allbytes\n",
    "            skipbits = (8-sz % 8)\n",
    "        chunks = chunkstring(allbytes, 8)\n",
    "        temp = []\n",
    "        for chunk in chunks:\n",
    "            temp.append(bin_to_dec(chunk))\n",
    "        file.write(bytearray(temp))\n",
    "        length = len(chunks)\n",
    "        dictionary[w] = [offset, length, skipbits]\n",
    "        offset += length\n",
    "    closeBinFiles(allidx)\n",
    "    return dictionary"
   ]
  },
  {
   "cell_type": "code",
   "execution_count": 64,
   "metadata": {},
   "outputs": [],
   "source": [
    "dictc2 = dumpC2()"
   ]
  },
  {
   "cell_type": "code",
   "execution_count": 65,
   "metadata": {},
   "outputs": [
    {
     "data": {
      "text/plain": [
       "[64418, 9, 1]"
      ]
     },
     "execution_count": 65,
     "metadata": {},
     "output_type": "execute_result"
    }
   ],
   "source": [
    "dictc2[\"sanction\"]"
   ]
  },
  {
   "cell_type": "code",
   "execution_count": 66,
   "metadata": {},
   "outputs": [],
   "source": [
    "def getPostings_c2(tokens, dictionary, filename):\n",
    "    f = open(filename, \"rb\")\n",
    "    res = []\n",
    "    for token in tokens:\n",
    "        start = dictionary[token][0]\n",
    "        sz = dictionary[token][1]\n",
    "        skipbits = dictionary[token][2]\n",
    "        f.seek(start)\n",
    "        allbytes = ''\n",
    "        for i in range(0,sz):\n",
    "            temp = f.read(1)\n",
    "            val = int.from_bytes(temp,\"big\")\n",
    "            allbytes+=padding(dec_to_binary(val))\n",
    "        i = (skipbits)\n",
    "        allbytes = allbytes[i:]\n",
    "        doclist = c2_decode(allbytes)\n",
    "        res.append(undoGapEncode(doclist))\n",
    "    return res"
   ]
  },
  {
   "cell_type": "code",
   "execution_count": 74,
   "metadata": {},
   "outputs": [
    {
     "name": "stdout",
     "output_type": "stream",
     "text": [
      "AP880504-0011\n",
      "AP880504-0025\n",
      "AP880504-0173\n"
     ]
    }
   ],
   "source": [
    "postings = getPostings_c2(getTokensFromText(\"South African Sanctions\"),dictc2,'tempc2.idx')\n",
    "docids = getIntersection(postings)\n",
    "for d in docids:\n",
    "    print(int_to_docID[d])"
   ]
  },
  {
   "cell_type": "code",
   "execution_count": 71,
   "metadata": {},
   "outputs": [
    {
     "data": {
      "text/plain": [
       "['african']"
      ]
     },
     "execution_count": 71,
     "metadata": {},
     "output_type": "execute_result"
    }
   ],
   "source": [
    "getTokensFromText(\"africans\")"
   ]
  },
  {
   "cell_type": "code",
   "execution_count": 72,
   "metadata": {},
   "outputs": [],
   "source": [
    "def delTempFiles():\n",
    "    for i in range(numfiles):\n",
    "        if os.path.exists(f\"dict{i}.json\"):\n",
    "            os.remove(f\"dict{i}.json\")\n",
    "        if os.path.exists(f\"index{i}.idx\"):\n",
    "            os.remove(f\"index{i}.idx\")"
   ]
  },
  {
   "cell_type": "code",
   "execution_count": 189,
   "metadata": {},
   "outputs": [
    {
     "ename": "PermissionError",
     "evalue": "[WinError 32] The process cannot access the file because it is being used by another process: 'index0.idx'",
     "output_type": "error",
     "traceback": [
      "\u001b[1;31m---------------------------------------------------------------------------\u001b[0m",
      "\u001b[1;31mPermissionError\u001b[0m                           Traceback (most recent call last)",
      "\u001b[1;32m<ipython-input-189-70879c2c4698>\u001b[0m in \u001b[0;36m<module>\u001b[1;34m\u001b[0m\n\u001b[1;32m----> 1\u001b[1;33m \u001b[0mdelTempFiles\u001b[0m\u001b[1;33m(\u001b[0m\u001b[1;33m)\u001b[0m\u001b[1;33m\u001b[0m\u001b[1;33m\u001b[0m\u001b[0m\n\u001b[0m",
      "\u001b[1;32m<ipython-input-188-56e73a106daf>\u001b[0m in \u001b[0;36mdelTempFiles\u001b[1;34m()\u001b[0m\n\u001b[0;32m      4\u001b[0m             \u001b[0mos\u001b[0m\u001b[1;33m.\u001b[0m\u001b[0mremove\u001b[0m\u001b[1;33m(\u001b[0m\u001b[1;34mf\"dict{i}.json\"\u001b[0m\u001b[1;33m)\u001b[0m\u001b[1;33m\u001b[0m\u001b[1;33m\u001b[0m\u001b[0m\n\u001b[0;32m      5\u001b[0m         \u001b[1;32mif\u001b[0m \u001b[0mos\u001b[0m\u001b[1;33m.\u001b[0m\u001b[0mpath\u001b[0m\u001b[1;33m.\u001b[0m\u001b[0mexists\u001b[0m\u001b[1;33m(\u001b[0m\u001b[1;34mf\"index{i}.idx\"\u001b[0m\u001b[1;33m)\u001b[0m\u001b[1;33m:\u001b[0m\u001b[1;33m\u001b[0m\u001b[1;33m\u001b[0m\u001b[0m\n\u001b[1;32m----> 6\u001b[1;33m             \u001b[0mos\u001b[0m\u001b[1;33m.\u001b[0m\u001b[0mremove\u001b[0m\u001b[1;33m(\u001b[0m\u001b[1;34mf\"index{i}.idx\"\u001b[0m\u001b[1;33m)\u001b[0m\u001b[1;33m\u001b[0m\u001b[1;33m\u001b[0m\u001b[0m\n\u001b[0m",
      "\u001b[1;31mPermissionError\u001b[0m: [WinError 32] The process cannot access the file because it is being used by another process: 'index0.idx'"
     ]
    }
   ],
   "source": [
    "delTempFiles()"
   ]
  },
  {
   "cell_type": "code",
   "execution_count": null,
   "metadata": {},
   "outputs": [],
   "source": []
  }
 ],
 "metadata": {
  "kernelspec": {
   "display_name": "Python 3",
   "language": "python",
   "name": "python3"
  },
  "language_info": {
   "codemirror_mode": {
    "name": "ipython",
    "version": 3
   },
   "file_extension": ".py",
   "mimetype": "text/x-python",
   "name": "python",
   "nbconvert_exporter": "python",
   "pygments_lexer": "ipython3",
   "version": "3.7.6"
  }
 },
 "nbformat": 4,
 "nbformat_minor": 4
}
