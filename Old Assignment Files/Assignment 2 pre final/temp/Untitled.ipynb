{
 "cells": [
  {
   "cell_type": "code",
   "execution_count": 2,
   "metadata": {},
   "outputs": [],
   "source": [
    "# coding: utf-8\n",
    "from nltk.corpus import stopwords\n",
    "import random\n",
    "from bs4 import BeautifulSoup\n",
    "import numpy as np\n",
    "import pandas as pd\n",
    "import nltk\n",
    "import re\n",
    "import os\n",
    "import math\n",
    "import json\n",
    "import sys\n",
    "import time\n",
    "import json\n",
    "import re\n",
    "import csv\n",
    "random.seed(42)"
   ]
  },
  {
   "cell_type": "code",
   "execution_count": 7,
   "metadata": {},
   "outputs": [],
   "source": [
    "def get_queries():\n",
    "    with open(\"topics.xml\", \"r\") as file:\n",
    "        content = file.readlines()\n",
    "        content = \"\".join(content)\n",
    "        bs_content = BeautifulSoup(content, \"lxml\")\n",
    "        queries = bs_content.find_all(\"query\")\n",
    "        offset = bs_content.find('topic',{'number':True}).attrs['number']\n",
    "        print(offset)\n",
    "        all_text = []\n",
    "        for q in queries:\n",
    "            all_text.append(q.text)\n",
    "        return all_text"
   ]
  },
  {
   "cell_type": "code",
   "execution_count": 8,
   "metadata": {},
   "outputs": [
    {
     "name": "stdout",
     "output_type": "stream",
     "text": [
      "999\n"
     ]
    },
    {
     "data": {
      "text/plain": [
       "['coronavirus origin',\n",
       " 'coronavirus response to weather changes',\n",
       " 'coronavirus immunity',\n",
       " 'how do people die from the coronavirus',\n",
       " 'animal models of COVID-19',\n",
       " 'coronavirus test rapid testing',\n",
       " 'serological tests for coronavirus',\n",
       " 'coronavirus under reporting',\n",
       " 'coronavirus in Canada',\n",
       " 'coronavirus social distancing impact',\n",
       " 'coronavirus hospital rationing',\n",
       " 'coronavirus quarantine',\n",
       " 'how does coronavirus spread',\n",
       " 'coronavirus super spreaders',\n",
       " 'coronavirus outside body',\n",
       " 'how long does coronavirus survive on surfaces',\n",
       " 'coronavirus clinical trials',\n",
       " 'masks prevent coronavirus',\n",
       " 'what alcohol sanitizer kills coronavirus',\n",
       " 'coronavirus and ACE inhibitors',\n",
       " 'coronavirus mortality',\n",
       " 'coronavirus heart impacts',\n",
       " 'coronavirus hypertension',\n",
       " 'coronavirus diabetes',\n",
       " 'coronavirus biomarkers',\n",
       " 'coronavirus early symptoms',\n",
       " 'coronavirus asymptomatic',\n",
       " 'coronavirus hydroxychloroquine',\n",
       " 'coronavirus drug repurposing',\n",
       " 'coronavirus remdesivir',\n",
       " 'difference between coronavirus and flu',\n",
       " 'coronavirus subtypes',\n",
       " 'coronavirus vaccine candidates',\n",
       " 'coronavirus recovery',\n",
       " 'coronavirus public datasets',\n",
       " 'SARS-CoV-2 spike structure',\n",
       " 'SARS-CoV-2 phylogenetic analysis',\n",
       " 'COVID inflammatory response',\n",
       " 'COVID-19 cytokine storm',\n",
       " 'coronavirus mutations']"
      ]
     },
     "execution_count": 8,
     "metadata": {},
     "output_type": "execute_result"
    }
   ],
   "source": [
    "get_queries()"
   ]
  },
  {
   "cell_type": "code",
   "execution_count": null,
   "metadata": {},
   "outputs": [],
   "source": []
  }
 ],
 "metadata": {
  "kernelspec": {
   "display_name": "Python 3",
   "language": "python",
   "name": "python3"
  },
  "language_info": {
   "codemirror_mode": {
    "name": "ipython",
    "version": 3
   },
   "file_extension": ".py",
   "mimetype": "text/x-python",
   "name": "python",
   "nbconvert_exporter": "python",
   "pygments_lexer": "ipython3",
   "version": "3.7.6"
  }
 },
 "nbformat": 4,
 "nbformat_minor": 4
}
